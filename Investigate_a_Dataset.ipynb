{
 "cells": [
  {
   "cell_type": "markdown",
   "metadata": {
    "tags": []
   },
   "source": [
    "# Project: Investigate a Dataset - [No Show Appointments]\n",
    "\n",
    "## Table of Contents\n",
    "<ul>\n",
    "<li><a href=\"#intro\">Introduction</a></li>\n",
    "<li><a href=\"#wrangling\">Data Wrangling</a></li>\n",
    "<li><a href=\"#eda\">Exploratory Data Analysis</a></li>\n",
    "<li><a href=\"#conclusions\">Conclusions</a></li>\n",
    "</ul>"
   ]
  },
  {
   "cell_type": "markdown",
   "metadata": {},
   "source": [
    "<a id='intro'></a>\n",
    "## Introduction\n",
    "\n",
    "### Dataset Description \n",
    "\n",
    "The **No-show appointments** dataset originally came from [Kaggle](https://www.kaggle.com/datasets/joniarroba/noshowappointments). The dataset collected information from 100k medical appointments to track whether or not patients arrived for their appointments. The dataset includes the following column information.\n",
    "\n",
    "| Column | Significance | Data Type |\n",
    "|---|---|---|\n",
    "| patient_id | A number to uniquely identify patients | float64 |\n",
    "| appointment_id | A number to uniquely identify appointments | int64 |\n",
    "| gender  | A value containing 'F' or 'M' | object |\n",
    "| scheduled_day  | A string representing the date an appointment was scheduled | object |\n",
    "| appointment_day  | A string representing the date an appointment ocurred | object |\n",
    "| age | The age of the patient at the time of the appointment | int64 |\n",
    "| neighbourhood | A string representing the date an appointment would occur | object |\n",
    "| scholarship | A Boolean value to indicate if the patient is enrolled in Brazilian welfare program [Bolsa Família](https://en.wikipedia.org/wiki/Bolsa_Fam%C3%ADlia). | int64 |\n",
    "| hypertension | A Boolean value to indicate if the patient has hypertension | int64 |\n",
    "| diabetes | A Boolean value to indicate if the patient has diabetes | int64 |\n",
    "| alcoholism | A Boolean value to indicate if the patient has alcoholism | int64 |\n",
    "| handicap | A Boolean value to indicate if the patient has any disabilities | int64 |\n",
    "| sms_received | A number to show the number of SMS messages the patient received| int64 |\n",
    "| no_show  | An inverted Boolean value to indicate if a patient attended their appointments stored as a 'Yes' or 'No' string (no indicates the patient attended their appointment)| object |\n",
    "\n",
    "\n",
    "\n",
    "### Question(s) for Analysis\n",
    "The three questions being explored are as follows:\n",
    "1. Which neighborhoods have the poorest appointment attendance?\n",
    "2. How does wait time impact appointment attendance?\n",
    "3. Does having a scholarship have any impact on patient attendance?"
   ]
  },
  {
   "cell_type": "code",
   "execution_count": 119,
   "metadata": {
    "tags": []
   },
   "outputs": [],
   "source": [
    "# imports\n",
    "import pandas as pd\n",
    "import matplotlib.pyplot as plt\n",
    "\n",
    "df = pd.read_csv('noshowappointments-kagglev2-may-2016.csv')\n"
   ]
  },
  {
   "cell_type": "markdown",
   "metadata": {},
   "source": [
    "<a id='wrangling'></a>\n",
    "## Data Wrangling\n",
    "### General Properties\n",
    "* The dataset has 110527 observations in 14 columns. Of these rows, only the `AppointmentID` column has completely unique values.\n",
    "* None of the columns are missing data.\n",
    "* Although there are 110527 observations, there are only 62299 patients. Some of the patients had multiple appointments.\n",
    "* `Handcap` is supposed to be a Boolean value, however, there are 5 different observations. This suggests that some of the responses are invalid.\n",
    "* The mean `Age` and the median `Age` are very close. That means that the impact of outliers on the dataset is likely minimal for this value. However, the minimum and maximum age ranges appear to be invalid at `-1` and `115` respectively.\n",
    "* Patients are from 81 different neighborhoods.\n",
    "* While patients made appointments on 103549 different days, those appointments only occurred on 27 different dates.\n",
    "* A number of boolean columns only have two values, however, those values are stored as strings and numbers rather than booleans."
   ]
  },
  {
   "cell_type": "code",
   "execution_count": 120,
   "metadata": {},
   "outputs": [
    {
     "data": {
      "text/html": [
       "<div>\n",
       "<style scoped>\n",
       "    .dataframe tbody tr th:only-of-type {\n",
       "        vertical-align: middle;\n",
       "    }\n",
       "\n",
       "    .dataframe tbody tr th {\n",
       "        vertical-align: top;\n",
       "    }\n",
       "\n",
       "    .dataframe thead th {\n",
       "        text-align: right;\n",
       "    }\n",
       "</style>\n",
       "<table border=\"1\" class=\"dataframe\">\n",
       "  <thead>\n",
       "    <tr style=\"text-align: right;\">\n",
       "      <th></th>\n",
       "      <th>PatientId</th>\n",
       "      <th>AppointmentID</th>\n",
       "      <th>Gender</th>\n",
       "      <th>ScheduledDay</th>\n",
       "      <th>AppointmentDay</th>\n",
       "      <th>Age</th>\n",
       "      <th>Neighbourhood</th>\n",
       "      <th>Scholarship</th>\n",
       "      <th>Hipertension</th>\n",
       "      <th>Diabetes</th>\n",
       "      <th>Alcoholism</th>\n",
       "      <th>Handcap</th>\n",
       "      <th>SMS_received</th>\n",
       "      <th>No-show</th>\n",
       "    </tr>\n",
       "  </thead>\n",
       "  <tbody>\n",
       "    <tr>\n",
       "      <th>0</th>\n",
       "      <td>2.987250e+13</td>\n",
       "      <td>5642903</td>\n",
       "      <td>F</td>\n",
       "      <td>2016-04-29T18:38:08Z</td>\n",
       "      <td>2016-04-29T00:00:00Z</td>\n",
       "      <td>62</td>\n",
       "      <td>JARDIM DA PENHA</td>\n",
       "      <td>0</td>\n",
       "      <td>1</td>\n",
       "      <td>0</td>\n",
       "      <td>0</td>\n",
       "      <td>0</td>\n",
       "      <td>0</td>\n",
       "      <td>No</td>\n",
       "    </tr>\n",
       "    <tr>\n",
       "      <th>1</th>\n",
       "      <td>5.589978e+14</td>\n",
       "      <td>5642503</td>\n",
       "      <td>M</td>\n",
       "      <td>2016-04-29T16:08:27Z</td>\n",
       "      <td>2016-04-29T00:00:00Z</td>\n",
       "      <td>56</td>\n",
       "      <td>JARDIM DA PENHA</td>\n",
       "      <td>0</td>\n",
       "      <td>0</td>\n",
       "      <td>0</td>\n",
       "      <td>0</td>\n",
       "      <td>0</td>\n",
       "      <td>0</td>\n",
       "      <td>No</td>\n",
       "    </tr>\n",
       "    <tr>\n",
       "      <th>2</th>\n",
       "      <td>4.262962e+12</td>\n",
       "      <td>5642549</td>\n",
       "      <td>F</td>\n",
       "      <td>2016-04-29T16:19:04Z</td>\n",
       "      <td>2016-04-29T00:00:00Z</td>\n",
       "      <td>62</td>\n",
       "      <td>MATA DA PRAIA</td>\n",
       "      <td>0</td>\n",
       "      <td>0</td>\n",
       "      <td>0</td>\n",
       "      <td>0</td>\n",
       "      <td>0</td>\n",
       "      <td>0</td>\n",
       "      <td>No</td>\n",
       "    </tr>\n",
       "    <tr>\n",
       "      <th>3</th>\n",
       "      <td>8.679512e+11</td>\n",
       "      <td>5642828</td>\n",
       "      <td>F</td>\n",
       "      <td>2016-04-29T17:29:31Z</td>\n",
       "      <td>2016-04-29T00:00:00Z</td>\n",
       "      <td>8</td>\n",
       "      <td>PONTAL DE CAMBURI</td>\n",
       "      <td>0</td>\n",
       "      <td>0</td>\n",
       "      <td>0</td>\n",
       "      <td>0</td>\n",
       "      <td>0</td>\n",
       "      <td>0</td>\n",
       "      <td>No</td>\n",
       "    </tr>\n",
       "    <tr>\n",
       "      <th>4</th>\n",
       "      <td>8.841186e+12</td>\n",
       "      <td>5642494</td>\n",
       "      <td>F</td>\n",
       "      <td>2016-04-29T16:07:23Z</td>\n",
       "      <td>2016-04-29T00:00:00Z</td>\n",
       "      <td>56</td>\n",
       "      <td>JARDIM DA PENHA</td>\n",
       "      <td>0</td>\n",
       "      <td>1</td>\n",
       "      <td>1</td>\n",
       "      <td>0</td>\n",
       "      <td>0</td>\n",
       "      <td>0</td>\n",
       "      <td>No</td>\n",
       "    </tr>\n",
       "  </tbody>\n",
       "</table>\n",
       "</div>"
      ],
      "text/plain": [
       "      PatientId  AppointmentID Gender          ScheduledDay  \\\n",
       "0  2.987250e+13        5642903      F  2016-04-29T18:38:08Z   \n",
       "1  5.589978e+14        5642503      M  2016-04-29T16:08:27Z   \n",
       "2  4.262962e+12        5642549      F  2016-04-29T16:19:04Z   \n",
       "3  8.679512e+11        5642828      F  2016-04-29T17:29:31Z   \n",
       "4  8.841186e+12        5642494      F  2016-04-29T16:07:23Z   \n",
       "\n",
       "         AppointmentDay  Age      Neighbourhood  Scholarship  Hipertension  \\\n",
       "0  2016-04-29T00:00:00Z   62    JARDIM DA PENHA            0             1   \n",
       "1  2016-04-29T00:00:00Z   56    JARDIM DA PENHA            0             0   \n",
       "2  2016-04-29T00:00:00Z   62      MATA DA PRAIA            0             0   \n",
       "3  2016-04-29T00:00:00Z    8  PONTAL DE CAMBURI            0             0   \n",
       "4  2016-04-29T00:00:00Z   56    JARDIM DA PENHA            0             1   \n",
       "\n",
       "   Diabetes  Alcoholism  Handcap  SMS_received No-show  \n",
       "0         0           0        0             0      No  \n",
       "1         0           0        0             0      No  \n",
       "2         0           0        0             0      No  \n",
       "3         0           0        0             0      No  \n",
       "4         1           0        0             0      No  "
      ]
     },
     "execution_count": 120,
     "metadata": {},
     "output_type": "execute_result"
    }
   ],
   "source": [
    "# first few rows of data\n",
    "df.head()"
   ]
  },
  {
   "cell_type": "code",
   "execution_count": 121,
   "metadata": {
    "tags": []
   },
   "outputs": [
    {
     "name": "stdout",
     "output_type": "stream",
     "text": [
      "<class 'pandas.core.frame.DataFrame'>\n",
      "RangeIndex: 110527 entries, 0 to 110526\n",
      "Data columns (total 14 columns):\n",
      " #   Column          Non-Null Count   Dtype  \n",
      "---  ------          --------------   -----  \n",
      " 0   PatientId       110527 non-null  float64\n",
      " 1   AppointmentID   110527 non-null  int64  \n",
      " 2   Gender          110527 non-null  object \n",
      " 3   ScheduledDay    110527 non-null  object \n",
      " 4   AppointmentDay  110527 non-null  object \n",
      " 5   Age             110527 non-null  int64  \n",
      " 6   Neighbourhood   110527 non-null  object \n",
      " 7   Scholarship     110527 non-null  int64  \n",
      " 8   Hipertension    110527 non-null  int64  \n",
      " 9   Diabetes        110527 non-null  int64  \n",
      " 10  Alcoholism      110527 non-null  int64  \n",
      " 11  Handcap         110527 non-null  int64  \n",
      " 12  SMS_received    110527 non-null  int64  \n",
      " 13  No-show         110527 non-null  object \n",
      "dtypes: float64(1), int64(8), object(5)\n",
      "memory usage: 11.8+ MB\n"
     ]
    }
   ],
   "source": [
    "# Numbers of columns, rows, and datatypes\n",
    "df.info()"
   ]
  },
  {
   "cell_type": "code",
   "execution_count": 122,
   "metadata": {},
   "outputs": [
    {
     "data": {
      "text/plain": [
       "PatientId          62299\n",
       "AppointmentID     110527\n",
       "Gender                 2\n",
       "ScheduledDay      103549\n",
       "AppointmentDay        27\n",
       "Age                  104\n",
       "Neighbourhood         81\n",
       "Scholarship            2\n",
       "Hipertension           2\n",
       "Diabetes               2\n",
       "Alcoholism             2\n",
       "Handcap                5\n",
       "SMS_received           2\n",
       "No-show                2\n",
       "dtype: int64"
      ]
     },
     "execution_count": 122,
     "metadata": {},
     "output_type": "execute_result"
    }
   ],
   "source": [
    "# show how many unique values are in each column\n",
    "df.nunique()"
   ]
  },
  {
   "cell_type": "code",
   "execution_count": 123,
   "metadata": {},
   "outputs": [
    {
     "data": {
      "text/html": [
       "<div>\n",
       "<style scoped>\n",
       "    .dataframe tbody tr th:only-of-type {\n",
       "        vertical-align: middle;\n",
       "    }\n",
       "\n",
       "    .dataframe tbody tr th {\n",
       "        vertical-align: top;\n",
       "    }\n",
       "\n",
       "    .dataframe thead th {\n",
       "        text-align: right;\n",
       "    }\n",
       "</style>\n",
       "<table border=\"1\" class=\"dataframe\">\n",
       "  <thead>\n",
       "    <tr style=\"text-align: right;\">\n",
       "      <th></th>\n",
       "      <th>PatientId</th>\n",
       "      <th>AppointmentID</th>\n",
       "      <th>Age</th>\n",
       "      <th>Scholarship</th>\n",
       "      <th>Hipertension</th>\n",
       "      <th>Diabetes</th>\n",
       "      <th>Alcoholism</th>\n",
       "      <th>Handcap</th>\n",
       "      <th>SMS_received</th>\n",
       "    </tr>\n",
       "  </thead>\n",
       "  <tbody>\n",
       "    <tr>\n",
       "      <th>count</th>\n",
       "      <td>1.105270e+05</td>\n",
       "      <td>1.105270e+05</td>\n",
       "      <td>110527.000000</td>\n",
       "      <td>110527.000000</td>\n",
       "      <td>110527.000000</td>\n",
       "      <td>110527.000000</td>\n",
       "      <td>110527.000000</td>\n",
       "      <td>110527.000000</td>\n",
       "      <td>110527.000000</td>\n",
       "    </tr>\n",
       "    <tr>\n",
       "      <th>mean</th>\n",
       "      <td>1.474963e+14</td>\n",
       "      <td>5.675305e+06</td>\n",
       "      <td>37.088874</td>\n",
       "      <td>0.098266</td>\n",
       "      <td>0.197246</td>\n",
       "      <td>0.071865</td>\n",
       "      <td>0.030400</td>\n",
       "      <td>0.022248</td>\n",
       "      <td>0.321026</td>\n",
       "    </tr>\n",
       "    <tr>\n",
       "      <th>std</th>\n",
       "      <td>2.560949e+14</td>\n",
       "      <td>7.129575e+04</td>\n",
       "      <td>23.110205</td>\n",
       "      <td>0.297675</td>\n",
       "      <td>0.397921</td>\n",
       "      <td>0.258265</td>\n",
       "      <td>0.171686</td>\n",
       "      <td>0.161543</td>\n",
       "      <td>0.466873</td>\n",
       "    </tr>\n",
       "    <tr>\n",
       "      <th>min</th>\n",
       "      <td>3.921784e+04</td>\n",
       "      <td>5.030230e+06</td>\n",
       "      <td>-1.000000</td>\n",
       "      <td>0.000000</td>\n",
       "      <td>0.000000</td>\n",
       "      <td>0.000000</td>\n",
       "      <td>0.000000</td>\n",
       "      <td>0.000000</td>\n",
       "      <td>0.000000</td>\n",
       "    </tr>\n",
       "    <tr>\n",
       "      <th>25%</th>\n",
       "      <td>4.172614e+12</td>\n",
       "      <td>5.640286e+06</td>\n",
       "      <td>18.000000</td>\n",
       "      <td>0.000000</td>\n",
       "      <td>0.000000</td>\n",
       "      <td>0.000000</td>\n",
       "      <td>0.000000</td>\n",
       "      <td>0.000000</td>\n",
       "      <td>0.000000</td>\n",
       "    </tr>\n",
       "    <tr>\n",
       "      <th>50%</th>\n",
       "      <td>3.173184e+13</td>\n",
       "      <td>5.680573e+06</td>\n",
       "      <td>37.000000</td>\n",
       "      <td>0.000000</td>\n",
       "      <td>0.000000</td>\n",
       "      <td>0.000000</td>\n",
       "      <td>0.000000</td>\n",
       "      <td>0.000000</td>\n",
       "      <td>0.000000</td>\n",
       "    </tr>\n",
       "    <tr>\n",
       "      <th>75%</th>\n",
       "      <td>9.439172e+13</td>\n",
       "      <td>5.725524e+06</td>\n",
       "      <td>55.000000</td>\n",
       "      <td>0.000000</td>\n",
       "      <td>0.000000</td>\n",
       "      <td>0.000000</td>\n",
       "      <td>0.000000</td>\n",
       "      <td>0.000000</td>\n",
       "      <td>1.000000</td>\n",
       "    </tr>\n",
       "    <tr>\n",
       "      <th>max</th>\n",
       "      <td>9.999816e+14</td>\n",
       "      <td>5.790484e+06</td>\n",
       "      <td>115.000000</td>\n",
       "      <td>1.000000</td>\n",
       "      <td>1.000000</td>\n",
       "      <td>1.000000</td>\n",
       "      <td>1.000000</td>\n",
       "      <td>4.000000</td>\n",
       "      <td>1.000000</td>\n",
       "    </tr>\n",
       "  </tbody>\n",
       "</table>\n",
       "</div>"
      ],
      "text/plain": [
       "          PatientId  AppointmentID            Age    Scholarship  \\\n",
       "count  1.105270e+05   1.105270e+05  110527.000000  110527.000000   \n",
       "mean   1.474963e+14   5.675305e+06      37.088874       0.098266   \n",
       "std    2.560949e+14   7.129575e+04      23.110205       0.297675   \n",
       "min    3.921784e+04   5.030230e+06      -1.000000       0.000000   \n",
       "25%    4.172614e+12   5.640286e+06      18.000000       0.000000   \n",
       "50%    3.173184e+13   5.680573e+06      37.000000       0.000000   \n",
       "75%    9.439172e+13   5.725524e+06      55.000000       0.000000   \n",
       "max    9.999816e+14   5.790484e+06     115.000000       1.000000   \n",
       "\n",
       "        Hipertension       Diabetes     Alcoholism        Handcap  \\\n",
       "count  110527.000000  110527.000000  110527.000000  110527.000000   \n",
       "mean        0.197246       0.071865       0.030400       0.022248   \n",
       "std         0.397921       0.258265       0.171686       0.161543   \n",
       "min         0.000000       0.000000       0.000000       0.000000   \n",
       "25%         0.000000       0.000000       0.000000       0.000000   \n",
       "50%         0.000000       0.000000       0.000000       0.000000   \n",
       "75%         0.000000       0.000000       0.000000       0.000000   \n",
       "max         1.000000       1.000000       1.000000       4.000000   \n",
       "\n",
       "        SMS_received  \n",
       "count  110527.000000  \n",
       "mean        0.321026  \n",
       "std         0.466873  \n",
       "min         0.000000  \n",
       "25%         0.000000  \n",
       "50%         0.000000  \n",
       "75%         1.000000  \n",
       "max         1.000000  "
      ]
     },
     "execution_count": 123,
     "metadata": {},
     "output_type": "execute_result"
    }
   ],
   "source": [
    "# show summary statistics for numeric columns\n",
    "df.describe(include='number')"
   ]
  },
  {
   "cell_type": "code",
   "execution_count": 124,
   "metadata": {},
   "outputs": [
    {
     "data": {
      "text/plain": [
       "Gender\n",
       "F    71840\n",
       "M    38687\n",
       "Name: count, dtype: int64"
      ]
     },
     "execution_count": 124,
     "metadata": {},
     "output_type": "execute_result"
    }
   ],
   "source": [
    "# verify only 'F' or 'M' values\n",
    "df['Gender'].value_counts()"
   ]
  },
  {
   "cell_type": "code",
   "execution_count": 125,
   "metadata": {},
   "outputs": [
    {
     "data": {
      "text/plain": [
       "Scholarship\n",
       "0    99666\n",
       "1    10861\n",
       "Name: count, dtype: int64"
      ]
     },
     "execution_count": 125,
     "metadata": {},
     "output_type": "execute_result"
    }
   ],
   "source": [
    "# check for boolean values only\n",
    "df['Scholarship'].value_counts()"
   ]
  },
  {
   "cell_type": "code",
   "execution_count": 126,
   "metadata": {},
   "outputs": [
    {
     "data": {
      "text/plain": [
       "Diabetes\n",
       "0    102584\n",
       "1      7943\n",
       "Name: count, dtype: int64"
      ]
     },
     "execution_count": 126,
     "metadata": {},
     "output_type": "execute_result"
    }
   ],
   "source": [
    "# check for boolean values only\n",
    "df['Diabetes'].value_counts()"
   ]
  },
  {
   "cell_type": "code",
   "execution_count": 127,
   "metadata": {},
   "outputs": [
    {
     "data": {
      "text/plain": [
       "Alcoholism\n",
       "0    107167\n",
       "1      3360\n",
       "Name: count, dtype: int64"
      ]
     },
     "execution_count": 127,
     "metadata": {},
     "output_type": "execute_result"
    }
   ],
   "source": [
    "# check for boolean values only\n",
    "df['Alcoholism'].value_counts()"
   ]
  },
  {
   "cell_type": "code",
   "execution_count": 128,
   "metadata": {},
   "outputs": [
    {
     "data": {
      "text/plain": [
       "Handcap\n",
       "0    108286\n",
       "1      2042\n",
       "2       183\n",
       "3        13\n",
       "4         3\n",
       "Name: count, dtype: int64"
      ]
     },
     "execution_count": 128,
     "metadata": {},
     "output_type": "execute_result"
    }
   ],
   "source": [
    "# check for boolean values only\n",
    "df['Handcap'].value_counts()\n"
   ]
  },
  {
   "cell_type": "code",
   "execution_count": 129,
   "metadata": {},
   "outputs": [
    {
     "data": {
      "text/plain": [
       "No-show\n",
       "No     88208\n",
       "Yes    22319\n",
       "Name: count, dtype: int64"
      ]
     },
     "execution_count": 129,
     "metadata": {},
     "output_type": "execute_result"
    }
   ],
   "source": [
    "# check for boolean values only\n",
    "df['No-show'].value_counts()"
   ]
  },
  {
   "cell_type": "code",
   "execution_count": 130,
   "metadata": {},
   "outputs": [
    {
     "name": "stdout",
     "output_type": "stream",
     "text": [
      "Max Age 115\n",
      "Min Age -1\n"
     ]
    }
   ],
   "source": [
    "# verify valid ages\n",
    "print('Max Age', df['Age'].max())\n",
    "print('Min Age', df['Age'].min())"
   ]
  },
  {
   "cell_type": "code",
   "execution_count": 131,
   "metadata": {},
   "outputs": [
    {
     "name": "stdout",
     "output_type": "stream",
     "text": [
      "Empty gender: 0\n",
      "Empty scheduled day: 0\n",
      "Empty appointment day: 0\n",
      "Empty neighbourhood: 0\n",
      "Empty no-show: 0\n"
     ]
    }
   ],
   "source": [
    "# checking for empty or whitespace-only strings\n",
    "empty_gender = df['Gender'].str.strip().eq('').sum()\n",
    "empty_scheduled = df['ScheduledDay'].str.strip().eq('').sum()\n",
    "empty_appt = df['AppointmentDay'].str.strip().eq('').sum()\n",
    "empty_neighbor = df['Neighbourhood'].str.strip().eq('').sum()\n",
    "empty_no_show = df['No-show'].str.strip().eq('').sum()\n",
    "\n",
    "print('Empty gender:', empty_gender)\n",
    "print('Empty scheduled day:', empty_scheduled)\n",
    "print('Empty appointment day:', empty_appt)\n",
    "print('Empty neighbourhood:', empty_neighbor)\n",
    "print('Empty no-show:', empty_no_show)"
   ]
  },
  {
   "cell_type": "markdown",
   "metadata": {},
   "source": [
    "\n",
    "### Data Cleaning\n",
    "\n",
    "#### Cleaning Plan\n",
    "##### Column Names\n",
    "* The `PatientId` and `AppointmentID` columns should probably be consistent, either both ans `Id` or `ID`\n",
    "* The `Hipertension` and `Handcap` columns will be converted to Americanized spellings\n",
    "* Everything will be converted to snake-case to match Python's standard naming convention\n",
    "\n",
    "##### Incorrect data types\n",
    "* Boolean columns should be converted to boolean values (`Scholarship`, `Hipertension`, `Diabetes`, `Alcoholism`, `Handcap`, `No-show`.\n",
    "* `ScheduledDay` and `AppointmentDay` columns should be stored as dates\n",
    "  \n",
    "##### Invalid data\n",
    "* An internet search has revealed the oldest living person in Brazil passed away at the age of `116` so the `max` `Age` will remain. The `min` `Age` will be replaced with 0.\n",
    "* Any `Handcap` that is not 1 or 0 will be converted to 1.\n",
    "\n",
    "##### Missing Data\n",
    "The dataset appears complete. There are no `null` or `NaN` values in the number fields. There are no empty strings in the string fields.\n",
    "\n",
    "##### Duplicate values\n",
    "The only field where duplicates would be problematic is the `AppointmentID` column. It's fine for the other fields to have duplicate values.\n"
   ]
  },
  {
   "cell_type": "code",
   "execution_count": 132,
   "metadata": {},
   "outputs": [
    {
     "name": "stdout",
     "output_type": "stream",
     "text": [
      "Dirty column names: Index(['PatientId', 'AppointmentID', 'Gender', 'ScheduledDay',\n",
      "       'AppointmentDay', 'Age', 'Neighbourhood', 'Scholarship', 'Hipertension',\n",
      "       'Diabetes', 'Alcoholism', 'Handcap', 'SMS_received', 'No-show'],\n",
      "      dtype='object')\n",
      "Clean column names: Index(['patient_id', 'appointment_id', 'gender', 'scheduled_day',\n",
      "       'appointment_day', 'age', 'neighborhood', 'scholarship', 'hypertension',\n",
      "       'diabetes', 'alcoholism', 'handicap', 'sms_received', 'no_show'],\n",
      "      dtype='object')\n"
     ]
    }
   ],
   "source": [
    "# Renaming columns\n",
    "\n",
    "# print current column names\n",
    "print('Dirty column names:', df.columns)\n",
    "\n",
    "# create dictionary to map new names\n",
    "new_names = {\n",
    "    'PatientId': 'patient_id',\n",
    "    'AppointmentID': 'appointment_id',\n",
    "    'Gender': 'gender',\n",
    "    'ScheduledDay': 'scheduled_day',\n",
    "    'AppointmentDay': 'appointment_day',\n",
    "    'Age': 'age',\n",
    "    'Neighbourhood': 'neighborhood',\n",
    "    'Scholarship': 'scholarship',\n",
    "    'Hipertension': 'hypertension',\n",
    "    'Diabetes': 'diabetes',\n",
    "    'Alcoholism': 'alcoholism',\n",
    "    'Handcap': 'handicap',\n",
    "    'SMS_received': 'sms_received',\n",
    "    'No-show': 'no_show'\n",
    "}\n",
    "\n",
    "# rename columns\n",
    "df = df.rename(columns=new_names)\n",
    "\n",
    "# print current column names\n",
    "print('Clean column names:', df.columns)\n",
    "\n"
   ]
  },
  {
   "cell_type": "code",
   "execution_count": 133,
   "metadata": {
    "tags": []
   },
   "outputs": [
    {
     "data": {
      "text/plain": [
       "handicap\n",
       "0    108286\n",
       "1      2241\n",
       "Name: count, dtype: int64"
      ]
     },
     "execution_count": 133,
     "metadata": {},
     "output_type": "execute_result"
    }
   ],
   "source": [
    "# Ensure handicap values are 0 or 1\n",
    "for index, value in df['handicap'].items():\n",
    "    if value != 0:\n",
    "        df.loc[index, 'handicap'] = 1\n",
    "\n",
    "# ensure boolean values\n",
    "df['handicap'].value_counts()\n"
   ]
  },
  {
   "cell_type": "code",
   "execution_count": 134,
   "metadata": {},
   "outputs": [
    {
     "name": "stdout",
     "output_type": "stream",
     "text": [
      "no_show\n",
      "True     88208\n",
      "False    22319\n",
      "Name: count, dtype: int64\n",
      "bool\n"
     ]
    }
   ],
   "source": [
    "# Invert logic so True = patient showed up\n",
    "df['no_show'] = df['no_show'].map({'No': 1, 'Yes': 0}).astype(bool)\n",
    "\n",
    "# Verify\n",
    "print(df['no_show'].value_counts())\n",
    "print(df['no_show'].dtypes)\n"
   ]
  },
  {
   "cell_type": "code",
   "execution_count": 135,
   "metadata": {},
   "outputs": [],
   "source": [
    "# Function for boolean conversions\n",
    "def convert_to_bool(num):\n",
    "    if num == 0:\n",
    "        return False\n",
    "    return True"
   ]
  },
  {
   "cell_type": "code",
   "execution_count": 136,
   "metadata": {},
   "outputs": [
    {
     "name": "stdout",
     "output_type": "stream",
     "text": [
      "Data types\n",
      "Scholarship: bool\n",
      "Hypertension: bool\n",
      "Diabetes: bool\n",
      "Alcoholism: bool\n",
      "Handicap: bool\n",
      "No-show: bool\n",
      "\n",
      "Unique values after conversion:\n",
      "Scholarship: [False  True]\n",
      "Hypertension: [ True False]\n",
      "Diabetes: [False  True]\n",
      "Alcoholism: [False  True]\n",
      "Handicap: [False  True]\n",
      "No-show: [ True False]\n"
     ]
    }
   ],
   "source": [
    "# convert values to booleans\n",
    "df['scholarship'] = df['scholarship'].apply(convert_to_bool)\n",
    "df['hypertension'] = df['hypertension'].apply(convert_to_bool)\n",
    "df['diabetes'] = df['diabetes'].apply(convert_to_bool)\n",
    "df['alcoholism'] = df['alcoholism'].apply(convert_to_bool)\n",
    "df['handicap'] = df['handicap'].apply(convert_to_bool)\n",
    "\n",
    "# verify data types\n",
    "print('Data types')\n",
    "print('Scholarship:', df['scholarship'].dtypes)\n",
    "print('Hypertension:', df['hypertension'].dtypes)\n",
    "print('Diabetes:', df['diabetes'].dtypes)\n",
    "print('Alcoholism:', df['alcoholism'].dtypes)\n",
    "print('Handicap:', df['handicap'].dtypes)\n",
    "print('No-show:', df['no_show'].dtypes)\n",
    "\n",
    "# verify values\n",
    "print('\\nUnique values after conversion:')\n",
    "print('Scholarship:', df['scholarship'].unique())\n",
    "print('Hypertension:', df['hypertension'].unique())\n",
    "print('Diabetes:', df['diabetes'].unique())\n",
    "print('Alcoholism:', df['alcoholism'].unique())\n",
    "print('Handicap:', df['handicap'].unique())\n",
    "print('No-show:', df['no_show'].unique())\n"
   ]
  },
  {
   "cell_type": "code",
   "execution_count": 137,
   "metadata": {},
   "outputs": [
    {
     "name": "stdout",
     "output_type": "stream",
     "text": [
      "<class 'pandas.core.frame.DataFrame'>\n",
      "RangeIndex: 110527 entries, 0 to 110526\n",
      "Data columns (total 14 columns):\n",
      " #   Column           Non-Null Count   Dtype  \n",
      "---  ------           --------------   -----  \n",
      " 0   patient_id       110527 non-null  float64\n",
      " 1   appointment_id   110527 non-null  int64  \n",
      " 2   gender           110527 non-null  object \n",
      " 3   scheduled_day    110527 non-null  object \n",
      " 4   appointment_day  110527 non-null  object \n",
      " 5   age              110527 non-null  int64  \n",
      " 6   neighborhood     110527 non-null  object \n",
      " 7   scholarship      110527 non-null  bool   \n",
      " 8   hypertension     110527 non-null  bool   \n",
      " 9   diabetes         110527 non-null  bool   \n",
      " 10  alcoholism       110527 non-null  bool   \n",
      " 11  handicap         110527 non-null  bool   \n",
      " 12  sms_received     110527 non-null  int64  \n",
      " 13  no_show          110527 non-null  bool   \n",
      "dtypes: bool(6), float64(1), int64(3), object(4)\n",
      "memory usage: 7.4+ MB\n"
     ]
    }
   ],
   "source": [
    "# View current dataset state\n",
    "df.info()"
   ]
  },
  {
   "cell_type": "code",
   "execution_count": 138,
   "metadata": {},
   "outputs": [
    {
     "name": "stdout",
     "output_type": "stream",
     "text": [
      "Data types\n",
      "Scheduled day: datetime64[ns, UTC]\n",
      "Appointment day: datetime64[ns, UTC]\n"
     ]
    }
   ],
   "source": [
    "# convert strings to dates\n",
    "df['scheduled_day'] = pd.to_datetime(df['scheduled_day'])\n",
    "df['appointment_day'] = pd.to_datetime(df['appointment_day'])\n",
    "\n",
    "#sanity checks\n",
    "print('Data types')\n",
    "print('Scheduled day:', df['scheduled_day'].dtypes)\n",
    "print('Appointment day:', df['appointment_day'].dtypes)\n"
   ]
  },
  {
   "cell_type": "code",
   "execution_count": 139,
   "metadata": {},
   "outputs": [
    {
     "data": {
      "text/plain": [
       "0"
      ]
     },
     "execution_count": 139,
     "metadata": {},
     "output_type": "execute_result"
    }
   ],
   "source": [
    "# Remove invalid age\n",
    "df['age'] = df['age'].replace(-1, 0)\n",
    "\n",
    "#sanity check\n",
    "df['age'].min()"
   ]
  },
  {
   "cell_type": "code",
   "execution_count": 140,
   "metadata": {},
   "outputs": [
    {
     "name": "stdout",
     "output_type": "stream",
     "text": [
      "<class 'pandas.core.frame.DataFrame'>\n",
      "RangeIndex: 110527 entries, 0 to 110526\n",
      "Data columns (total 14 columns):\n",
      " #   Column           Non-Null Count   Dtype              \n",
      "---  ------           --------------   -----              \n",
      " 0   patient_id       110527 non-null  float64            \n",
      " 1   appointment_id   110527 non-null  int64              \n",
      " 2   gender           110527 non-null  object             \n",
      " 3   scheduled_day    110527 non-null  datetime64[ns, UTC]\n",
      " 4   appointment_day  110527 non-null  datetime64[ns, UTC]\n",
      " 5   age              110527 non-null  int64              \n",
      " 6   neighborhood     110527 non-null  object             \n",
      " 7   scholarship      110527 non-null  bool               \n",
      " 8   hypertension     110527 non-null  bool               \n",
      " 9   diabetes         110527 non-null  bool               \n",
      " 10  alcoholism       110527 non-null  bool               \n",
      " 11  handicap         110527 non-null  bool               \n",
      " 12  sms_received     110527 non-null  int64              \n",
      " 13  no_show          110527 non-null  bool               \n",
      "dtypes: bool(6), datetime64[ns, UTC](2), float64(1), int64(3), object(2)\n",
      "memory usage: 7.4+ MB\n"
     ]
    }
   ],
   "source": [
    "# Final validation checks\n",
    "df.info()"
   ]
  },
  {
   "cell_type": "code",
   "execution_count": 141,
   "metadata": {},
   "outputs": [
    {
     "data": {
      "text/html": [
       "<div>\n",
       "<style scoped>\n",
       "    .dataframe tbody tr th:only-of-type {\n",
       "        vertical-align: middle;\n",
       "    }\n",
       "\n",
       "    .dataframe tbody tr th {\n",
       "        vertical-align: top;\n",
       "    }\n",
       "\n",
       "    .dataframe thead th {\n",
       "        text-align: right;\n",
       "    }\n",
       "</style>\n",
       "<table border=\"1\" class=\"dataframe\">\n",
       "  <thead>\n",
       "    <tr style=\"text-align: right;\">\n",
       "      <th></th>\n",
       "      <th>patient_id</th>\n",
       "      <th>appointment_id</th>\n",
       "      <th>age</th>\n",
       "      <th>sms_received</th>\n",
       "    </tr>\n",
       "  </thead>\n",
       "  <tbody>\n",
       "    <tr>\n",
       "      <th>count</th>\n",
       "      <td>1.105270e+05</td>\n",
       "      <td>1.105270e+05</td>\n",
       "      <td>110527.000000</td>\n",
       "      <td>110527.000000</td>\n",
       "    </tr>\n",
       "    <tr>\n",
       "      <th>mean</th>\n",
       "      <td>1.474963e+14</td>\n",
       "      <td>5.675305e+06</td>\n",
       "      <td>37.088883</td>\n",
       "      <td>0.321026</td>\n",
       "    </tr>\n",
       "    <tr>\n",
       "      <th>std</th>\n",
       "      <td>2.560949e+14</td>\n",
       "      <td>7.129575e+04</td>\n",
       "      <td>23.110190</td>\n",
       "      <td>0.466873</td>\n",
       "    </tr>\n",
       "    <tr>\n",
       "      <th>min</th>\n",
       "      <td>3.921784e+04</td>\n",
       "      <td>5.030230e+06</td>\n",
       "      <td>0.000000</td>\n",
       "      <td>0.000000</td>\n",
       "    </tr>\n",
       "    <tr>\n",
       "      <th>25%</th>\n",
       "      <td>4.172614e+12</td>\n",
       "      <td>5.640286e+06</td>\n",
       "      <td>18.000000</td>\n",
       "      <td>0.000000</td>\n",
       "    </tr>\n",
       "    <tr>\n",
       "      <th>50%</th>\n",
       "      <td>3.173184e+13</td>\n",
       "      <td>5.680573e+06</td>\n",
       "      <td>37.000000</td>\n",
       "      <td>0.000000</td>\n",
       "    </tr>\n",
       "    <tr>\n",
       "      <th>75%</th>\n",
       "      <td>9.439172e+13</td>\n",
       "      <td>5.725524e+06</td>\n",
       "      <td>55.000000</td>\n",
       "      <td>1.000000</td>\n",
       "    </tr>\n",
       "    <tr>\n",
       "      <th>max</th>\n",
       "      <td>9.999816e+14</td>\n",
       "      <td>5.790484e+06</td>\n",
       "      <td>115.000000</td>\n",
       "      <td>1.000000</td>\n",
       "    </tr>\n",
       "  </tbody>\n",
       "</table>\n",
       "</div>"
      ],
      "text/plain": [
       "         patient_id  appointment_id            age   sms_received\n",
       "count  1.105270e+05    1.105270e+05  110527.000000  110527.000000\n",
       "mean   1.474963e+14    5.675305e+06      37.088883       0.321026\n",
       "std    2.560949e+14    7.129575e+04      23.110190       0.466873\n",
       "min    3.921784e+04    5.030230e+06       0.000000       0.000000\n",
       "25%    4.172614e+12    5.640286e+06      18.000000       0.000000\n",
       "50%    3.173184e+13    5.680573e+06      37.000000       0.000000\n",
       "75%    9.439172e+13    5.725524e+06      55.000000       1.000000\n",
       "max    9.999816e+14    5.790484e+06     115.000000       1.000000"
      ]
     },
     "execution_count": 141,
     "metadata": {},
     "output_type": "execute_result"
    }
   ],
   "source": [
    "df.describe()"
   ]
  },
  {
   "cell_type": "markdown",
   "metadata": {},
   "source": [
    "<a id='eda'></a>\n",
    "## Exploratory Data Analysis\n",
    "\n",
    "### 1. Which neighborhoods have the poorest appointment attendance?"
   ]
  },
  {
   "cell_type": "code",
   "execution_count": 142,
   "metadata": {
    "tags": []
   },
   "outputs": [
    {
     "name": "stdout",
     "output_type": "stream",
     "text": [
      "neighborhood\n",
      "JARDIM CAMBURI     6252\n",
      "MARIA ORTIZ        4586\n",
      "RESISTÊNCIA        3525\n",
      "JARDIM DA PENHA    3246\n",
      "SANTA MARTHA       2635\n",
      "Name: True, dtype: int64\n"
     ]
    }
   ],
   "source": [
    "# group attendance by neighborhood and count\n",
    "attendance_counts = df.groupby('neighborhood')['no_show'].value_counts().unstack(fill_value=0)\n",
    "\n",
    "# Get missed appointments\n",
    "missed = attendance_counts[True]\n",
    "\n",
    "missed_sorted = missed.sort_values(ascending=False)\n",
    "\n",
    "top_five = missed_sorted.head(5)\n",
    "\n",
    "print(top_five)"
   ]
  },
  {
   "cell_type": "code",
   "execution_count": 143,
   "metadata": {},
   "outputs": [
    {
     "data": {
      "text/plain": [
       "count      81.000000\n",
       "mean     1088.987654\n",
       "std      1096.260581\n",
       "min         0.000000\n",
       "25%       321.000000\n",
       "50%       709.000000\n",
       "75%      1562.000000\n",
       "max      6252.000000\n",
       "Name: True, dtype: float64"
      ]
     },
     "execution_count": 143,
     "metadata": {},
     "output_type": "execute_result"
    }
   ],
   "source": [
    "# Overall Missed appointment Averages\n",
    "missed.describe()"
   ]
  },
  {
   "cell_type": "code",
   "execution_count": 144,
   "metadata": {},
   "outputs": [
    {
     "data": {
      "text/plain": [
       "count       5.000000\n",
       "mean     4048.800000\n",
       "std      1419.538552\n",
       "min      2635.000000\n",
       "25%      3246.000000\n",
       "50%      3525.000000\n",
       "75%      4586.000000\n",
       "max      6252.000000\n",
       "Name: True, dtype: float64"
      ]
     },
     "execution_count": 144,
     "metadata": {},
     "output_type": "execute_result"
    }
   ],
   "source": [
    "# top 5 appointment count\n",
    "top_five.describe()"
   ]
  },
  {
   "cell_type": "code",
   "execution_count": 145,
   "metadata": {},
   "outputs": [
    {
     "name": "stdout",
     "output_type": "stream",
     "text": [
      "neighborhood\n",
      "PARQUE INDUSTRIAL    100.000000\n",
      "ILHA DO BOI           91.428571\n",
      "AEROPORTO             87.500000\n",
      "MÁRIO CYPRESTE        85.444744\n",
      "SOLON BORGES          85.287846\n",
      "dtype: float64\n"
     ]
    }
   ],
   "source": [
    "# Attendance as a proportion of population\n",
    "\n",
    "# Find total number of appointments in each neighborhood\n",
    "total_appt = df.groupby('neighborhood')['no_show'].count()\n",
    "\n",
    "# Find proportion of no_shows\n",
    "attendance_rate = (missed / total_appt) * 100\n",
    "\n",
    "attendance_sorted = attendance_rate.sort_values(ascending=False)\n",
    "\n",
    "percent_top_five = attendance_sorted.head()\n",
    "\n",
    "print(percent_top_five)"
   ]
  },
  {
   "cell_type": "code",
   "execution_count": 146,
   "metadata": {},
   "outputs": [
    {
     "data": {
      "text/plain": [
       "count     81.000000\n",
       "mean      79.457332\n",
       "std        9.722959\n",
       "min        0.000000\n",
       "25%       78.254649\n",
       "50%       80.241151\n",
       "75%       82.009346\n",
       "max      100.000000\n",
       "dtype: float64"
      ]
     },
     "execution_count": 146,
     "metadata": {},
     "output_type": "execute_result"
    }
   ],
   "source": [
    "# Percentage summaries\n",
    "attendance_sorted.describe()"
   ]
  },
  {
   "cell_type": "code",
   "execution_count": 147,
   "metadata": {},
   "outputs": [
    {
     "data": {
      "text/plain": [
       "count      5.000000\n",
       "mean      89.932232\n",
       "std        6.148630\n",
       "min       85.287846\n",
       "25%       85.444744\n",
       "50%       87.500000\n",
       "75%       91.428571\n",
       "max      100.000000\n",
       "dtype: float64"
      ]
     },
     "execution_count": 147,
     "metadata": {},
     "output_type": "execute_result"
    }
   ],
   "source": [
    "# worst by percentage summaries\n",
    "percent_top_five.describe()"
   ]
  },
  {
   "cell_type": "code",
   "execution_count": 148,
   "metadata": {},
   "outputs": [
    {
     "data": {
      "image/png": "[encoded data removed]",
      "text/plain": [
       "<Figure size 640x480 with 1 Axes>"
      ]
     },
     "metadata": {},
     "output_type": "display_data"
    }
   ],
   "source": [
    "# view results\n",
    "top_five.plot(kind=\"bar\", title=\"Highest Missed Appointments\")\n",
    "plt.xlabel(\"Neighborhood\")\n",
    "plt.ylabel(\"Missed Appointments\")\n",
    "plt.tight_layout()\n",
    "plt.show()\n"
   ]
  },
  {
   "cell_type": "code",
   "execution_count": 149,
   "metadata": {},
   "outputs": [
    {
     "data": {
      "image/png": "[encoded data removed]",
      "text/plain": [
       "<Figure size 640x480 with 1 Axes>"
      ]
     },
     "metadata": {},
     "output_type": "display_data"
    }
   ],
   "source": [
    "# view results\n",
    "percent_top_five.plot(kind=\"bar\", title=\"Highest Missed Appointents as Percents\")\n",
    "plt.xlabel(\"Neighborhood\")\n",
    "plt.ylabel(\"Percentage of Appointments\")\n",
    "plt.tight_layout()\n",
    "plt.show()"
   ]
  },
  {
   "cell_type": "markdown",
   "metadata": {},
   "source": [
    "### 2. How does wait time impact appointment attendance?"
   ]
  },
  {
   "cell_type": "code",
   "execution_count": 150,
   "metadata": {
    "tags": []
   },
   "outputs": [
    {
     "data": {
      "text/plain": [
       "count    110527.000000\n",
       "mean          9.183702\n",
       "std          15.254996\n",
       "min          -7.000000\n",
       "25%          -1.000000\n",
       "50%           3.000000\n",
       "75%          14.000000\n",
       "max         178.000000\n",
       "Name: wait_time, dtype: float64"
      ]
     },
     "execution_count": 150,
     "metadata": {},
     "output_type": "execute_result"
    }
   ],
   "source": [
    "# copy dataset\n",
    "wt_df = df.copy()\n",
    "\n",
    "# # add wait times to data set\n",
    "wt_df['wait_time'] = (wt_df['appointment_day'] - wt_df['scheduled_day']).dt.days\n",
    "\n",
    "wt_df['wait_time'].describe()"
   ]
  },
  {
   "cell_type": "code",
   "execution_count": 151,
   "metadata": {},
   "outputs": [],
   "source": [
    "# assume negative wait times are recorded incorrectly\n",
    "def invert_wait_times(scheduled_day, appointment_day):\n",
    "    temp_wait = ''\n",
    "\n",
    "    if scheduled_day > appointment_day:\n",
    "        temp_wait = appointment_day\n",
    "        appointment_day = scheduled_day\n",
    "        scheduled_day = temp_wait\n",
    "    \n",
    "    return scheduled_day, appointment_day\n",
    "\n",
    "# Apply function row-by-row\n",
    "wt_df[['scheduled_day', 'appointment_day']] = wt_df.apply(\n",
    "    lambda row: invert_wait_times(row['scheduled_day'], row['appointment_day']),\n",
    "    axis=1, result_type='expand'\n",
    ")"
   ]
  },
  {
   "cell_type": "code",
   "execution_count": 152,
   "metadata": {},
   "outputs": [
    {
     "data": {
      "text/plain": [
       "count    110527.000000\n",
       "mean          9.532829\n",
       "std          15.027683\n",
       "min           0.000000\n",
       "25%           0.000000\n",
       "50%           3.000000\n",
       "75%          14.000000\n",
       "max         178.000000\n",
       "Name: wait_time, dtype: float64"
      ]
     },
     "execution_count": 152,
     "metadata": {},
     "output_type": "execute_result"
    }
   ],
   "source": [
    "# recalculate wait times\n",
    "wt_df['wait_time'] = (wt_df['appointment_day'] - wt_df['scheduled_day']).dt.days\n",
    "\n",
    "# check for corrected wait times\n",
    "wt_df['wait_time'].describe()"
   ]
  },
  {
   "cell_type": "code",
   "execution_count": 153,
   "metadata": {},
   "outputs": [
    {
     "name": "stdout",
     "output_type": "stream",
     "text": [
      "Attended appointment: 14.912899323446391\n",
      "Missed appointent: 8.171526392163976\n"
     ]
    }
   ],
   "source": [
    "# separate data by attendance\n",
    "attended_appt = wt_df[wt_df['no_show'] == False]\n",
    "missed_appt = wt_df[wt_df['no_show'] == True]\n",
    "\n",
    "print(\"Attended appointment:\", attended_appt['wait_time'].mean())\n",
    "print(\"Missed appointent:\", missed_appt['wait_time'].mean())"
   ]
  },
  {
   "cell_type": "code",
   "execution_count": 154,
   "metadata": {},
   "outputs": [
    {
     "name": "stderr",
     "output_type": "stream",
     "text": [
      "C:\\Users\\shari\\AppData\\Local\\Temp\\ipykernel_27756\\1143929060.py:5: MatplotlibDeprecationWarning: The 'labels' parameter of boxplot() has been renamed 'tick_labels' since Matplotlib 3.9; support for the old name will be dropped in 3.11.\n",
      "  plt.boxplot(\n"
     ]
    },
    {
     "data": {
      "image/png": "[encoded data removed]",
      "text/plain": [
       "<Figure size 800x600 with 1 Axes>"
      ]
     },
     "metadata": {},
     "output_type": "display_data"
    }
   ],
   "source": [
    "# plot results\n",
    "\n",
    "# Create a box plot comparing wait times for attended vs missed appointments\n",
    "plt.figure(figsize=(8, 6))\n",
    "plt.boxplot(\n",
    "    [attended_appt['wait_time'], missed_appt['wait_time']],\n",
    "    labels=['Attended', 'Missed'],\n",
    "    patch_artist=True\n",
    ")\n",
    "\n",
    "plt.title('Wait Time Distribution by Attendance Status')\n",
    "plt.ylabel('Wait Time (days)')\n",
    "plt.show()\n"
   ]
  },
  {
   "cell_type": "code",
   "execution_count": 155,
   "metadata": {},
   "outputs": [
    {
     "name": "stderr",
     "output_type": "stream",
     "text": [
      "C:\\Users\\shari\\AppData\\Local\\Temp\\ipykernel_27756\\494959986.py:8: MatplotlibDeprecationWarning: The 'labels' parameter of boxplot() has been renamed 'tick_labels' since Matplotlib 3.9; support for the old name will be dropped in 3.11.\n",
      "  plt.boxplot(\n"
     ]
    },
    {
     "data": {
      "image/png": "[encoded data removed]",
      "text/plain": [
       "<Figure size 640x480 with 1 Axes>"
      ]
     },
     "metadata": {},
     "output_type": "display_data"
    }
   ],
   "source": [
    "# reduce outliers to make graph clearer\n",
    "q75 = wt_df['wait_time'].quantile(0.75)\n",
    "filtered_df = wt_df[wt_df['wait_time'] <= q75]\n",
    "\n",
    "attended_filtered = filtered_df[filtered_df['no_show'] == False]\n",
    "missed_filtered = filtered_df[filtered_df['no_show'] == True]\n",
    "\n",
    "plt.boxplot(\n",
    "    [attended_filtered['wait_time'], missed_filtered['wait_time']],\n",
    "    labels=['Attended', 'Missed'],\n",
    "    patch_artist=True\n",
    ")\n",
    "plt.title('Wait Time Distribution (≤75th Percentile)')\n",
    "plt.ylabel('Wait Time (days)')\n",
    "plt.show()\n"
   ]
  },
  {
   "cell_type": "markdown",
   "metadata": {},
   "source": [
    "### 3. Does having a scholarship have any impact on patient attendance?"
   ]
  },
  {
   "cell_type": "code",
   "execution_count": 156,
   "metadata": {},
   "outputs": [
    {
     "name": "stdout",
     "output_type": "stream",
     "text": [
      "Avg scholarship:  76.26369579228432\n",
      "Avg total:  80.19284409929163\n"
     ]
    }
   ],
   "source": [
    "# Filter for patients with scholarships\n",
    "# groups\n",
    "schol_patients = df[df['scholarship'] == True]\n",
    "no_schol_patients = df[df['scholarship'] == False]\n",
    "\n",
    "# proportions missed\n",
    "schol_percent = (schol_patients['no_show'] == True).mean()\n",
    "no_schol_percent = (no_schol_patients['no_show'] == True).mean()\n",
    "\n",
    "print(\"Avg scholarship: \", schol_percent * 100)\n",
    "print(\"Avg total: \", no_schol_percent * 100)\n"
   ]
  },
  {
   "cell_type": "code",
   "execution_count": 157,
   "metadata": {},
   "outputs": [
    {
     "data": {
      "image/png": "[encoded data removed]",
      "text/plain": [
       "<Figure size 600x500 with 1 Axes>"
      ]
     },
     "metadata": {},
     "output_type": "display_data"
    }
   ],
   "source": [
    "# visualization\n",
    "\n",
    "plt.figure(figsize=(6, 5))\n",
    "plt.bar(['Scholarship', 'No Scholarship'],\n",
    "        [schol_percent * 100, no_schol_percent * 100],\n",
    "        color=['skyblue', 'orange'])\n",
    "plt.ylabel('Missed Appointment Rate (%)')\n",
    "plt.title('Missed Appointments by Scholarship Status')\n",
    "plt.show()"
   ]
  },
  {
   "cell_type": "markdown",
   "metadata": {},
   "source": [
    "<a id='conclusions'></a>\n",
    "## Conclusions\n",
    "\n",
    "The analysis explored three questions related to appointment attendance among patients:\n",
    "\n",
    "1. Which neighborhoods have the poorest appointment attendance?\n",
    "2. How does wait time impact attendance?\n",
    "3. Does having a scholarship influence whether a patient attends their appointment?\n",
    "\n",
    "Neighborhoods such as **Jardim Camburi** and **Maria Ortiz** had the highest *number* of missed appointments overall. However, when comparing the *percentage* of missed appointments relative to total appointments, neighborhoods such as **Parque Industrial** and **Ilha do Boi** had the poorest attendance rates. This distinction suggests that there may be additional factors that impact patient attendance related to neighborhood.\n",
    "\n",
    "Analysis of **wait times** revealed that patients with **longer wait times were more likely to attend** their appointments. On average, patients who attended waited about **15 days**, while those who missed waited about **8 days**. Although this finding was unexpected, it may suggest that patients with longer waits plan more carefully or that certain types of appointments require longer lead times.\n",
    "\n",
    "Finally, analysis of **scholarship status** indicated that patients with scholarships were **slightly more likely to miss** their appointments compared to those without. This difference was small and may not indicate a meaningful relationship, but it suggests that **financial assistance alone does not ensure attendance**.\n",
    "\n",
    "### Limitations\n",
    "\n",
    "One key limitation of this analysis is the lack of contextual data about each patient. Factors such as distance from the clinic, health severity, employment obligations, or transportation access were not available but may strongly influence attendance. In addition, this project used **descriptive statistics only**. No inferential statistical tests were conducted, so the results describe associations rather than causation.\n",
    "\n",
    "### Recommendations\n",
    "\n",
    "Future research could include a more detailed analysis of socioeconomic factors or time-of-day patterns in attendance. It may also be valuable to analyze appointment types to determine whether certain specialties or procedures experience higher no-show rates."
   ]
  },
  {
   "cell_type": "code",
   "execution_count": 159,
   "metadata": {
    "tags": []
   },
   "outputs": [
    {
     "name": "stderr",
     "output_type": "stream",
     "text": [
      "[NbConvertApp] Converting notebook Investigate_a_Dataset.ipynb to html\n",
      "[NbConvertApp] WARNING | Alternative text is missing on 5 image(s).\n",
      "[NbConvertApp] Writing 534887 bytes to Investigate_a_Dataset.html\n"
     ]
    }
   ],
   "source": [
    "# Running this cell will execute a bash command to convert this notebook to an .html file\n",
    "!python -m nbconvert --to html Investigate_a_Dataset.ipynb"
   ]
  }
 ],
 "metadata": {
  "kernelspec": {
   "display_name": "equity_analysis",
   "language": "python",
   "name": "python3"
  },
  "language_info": {
   "codemirror_mode": {
    "name": "ipython",
    "version": 3
   },
   "file_extension": ".py",
   "mimetype": "text/x-python",
   "name": "python",
   "nbconvert_exporter": "python",
   "pygments_lexer": "ipython3",
   "version": "3.12.11"
  }
 },
 "nbformat": 4,
 "nbformat_minor": 4
}
